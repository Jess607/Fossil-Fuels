{
 "cells": [
  {
   "cell_type": "code",
   "execution_count": 1,
   "id": "010865eb",
   "metadata": {},
   "outputs": [],
   "source": [
    "import numpy as np\n",
    "import pandas as pd\n",
    "import matplotlib.pyplot as plt\n",
    "import seaborn as sns "
   ]
  },
  {
   "cell_type": "code",
   "execution_count": 5,
   "id": "2b014546",
   "metadata": {},
   "outputs": [
    {
     "name": "stderr",
     "output_type": "stream",
     "text": [
      "C:\\Users\\JESSICA\\anaconda3\\lib\\site-packages\\openpyxl\\worksheet\\_reader.py:312: UserWarning: Unknown extension is not supported and will be removed\n",
      "  warn(msg)\n"
     ]
    },
    {
     "data": {
      "text/html": [
       "<div>\n",
       "<style scoped>\n",
       "    .dataframe tbody tr th:only-of-type {\n",
       "        vertical-align: middle;\n",
       "    }\n",
       "\n",
       "    .dataframe tbody tr th {\n",
       "        vertical-align: top;\n",
       "    }\n",
       "\n",
       "    .dataframe thead th {\n",
       "        text-align: right;\n",
       "    }\n",
       "</style>\n",
       "<table border=\"1\" class=\"dataframe\">\n",
       "  <thead>\n",
       "    <tr style=\"text-align: right;\">\n",
       "      <th></th>\n",
       "      <th>Year</th>\n",
       "      <th>Total</th>\n",
       "      <th>Gas</th>\n",
       "      <th>Liquids</th>\n",
       "      <th>Solids</th>\n",
       "      <th>Production</th>\n",
       "      <th>Flaring</th>\n",
       "      <th>Capita</th>\n",
       "    </tr>\n",
       "  </thead>\n",
       "  <tbody>\n",
       "    <tr>\n",
       "      <th>0</th>\n",
       "      <td>1751</td>\n",
       "      <td>3</td>\n",
       "      <td>0</td>\n",
       "      <td>0</td>\n",
       "      <td>3</td>\n",
       "      <td>0</td>\n",
       "      <td>0</td>\n",
       "      <td>NaN</td>\n",
       "    </tr>\n",
       "    <tr>\n",
       "      <th>1</th>\n",
       "      <td>1752</td>\n",
       "      <td>3</td>\n",
       "      <td>0</td>\n",
       "      <td>0</td>\n",
       "      <td>3</td>\n",
       "      <td>0</td>\n",
       "      <td>0</td>\n",
       "      <td>NaN</td>\n",
       "    </tr>\n",
       "    <tr>\n",
       "      <th>2</th>\n",
       "      <td>1753</td>\n",
       "      <td>3</td>\n",
       "      <td>0</td>\n",
       "      <td>0</td>\n",
       "      <td>3</td>\n",
       "      <td>0</td>\n",
       "      <td>0</td>\n",
       "      <td>NaN</td>\n",
       "    </tr>\n",
       "    <tr>\n",
       "      <th>3</th>\n",
       "      <td>1754</td>\n",
       "      <td>3</td>\n",
       "      <td>0</td>\n",
       "      <td>0</td>\n",
       "      <td>3</td>\n",
       "      <td>0</td>\n",
       "      <td>0</td>\n",
       "      <td>NaN</td>\n",
       "    </tr>\n",
       "    <tr>\n",
       "      <th>4</th>\n",
       "      <td>1755</td>\n",
       "      <td>3</td>\n",
       "      <td>0</td>\n",
       "      <td>0</td>\n",
       "      <td>3</td>\n",
       "      <td>0</td>\n",
       "      <td>0</td>\n",
       "      <td>NaN</td>\n",
       "    </tr>\n",
       "  </tbody>\n",
       "</table>\n",
       "</div>"
      ],
      "text/plain": [
       "   Year  Total  Gas  Liquids  Solids  Production  Flaring  Capita\n",
       "0  1751      3    0        0       3           0        0     NaN\n",
       "1  1752      3    0        0       3           0        0     NaN\n",
       "2  1753      3    0        0       3           0        0     NaN\n",
       "3  1754      3    0        0       3           0        0     NaN\n",
       "4  1755      3    0        0       3           0        0     NaN"
      ]
     },
     "execution_count": 5,
     "metadata": {},
     "output_type": "execute_result"
    }
   ],
   "source": [
    "df=pd.read_excel('fossil.xlsx')\n",
    "df.head()"
   ]
  },
  {
   "cell_type": "code",
   "execution_count": 6,
   "id": "f5372ac3",
   "metadata": {},
   "outputs": [
    {
     "data": {
      "text/plain": [
       "(263, 8)"
      ]
     },
     "execution_count": 6,
     "metadata": {},
     "output_type": "execute_result"
    }
   ],
   "source": [
    "df.shape"
   ]
  },
  {
   "cell_type": "code",
   "execution_count": 7,
   "id": "87364a71",
   "metadata": {},
   "outputs": [
    {
     "data": {
      "text/html": [
       "<div>\n",
       "<style scoped>\n",
       "    .dataframe tbody tr th:only-of-type {\n",
       "        vertical-align: middle;\n",
       "    }\n",
       "\n",
       "    .dataframe tbody tr th {\n",
       "        vertical-align: top;\n",
       "    }\n",
       "\n",
       "    .dataframe thead th {\n",
       "        text-align: right;\n",
       "    }\n",
       "</style>\n",
       "<table border=\"1\" class=\"dataframe\">\n",
       "  <thead>\n",
       "    <tr style=\"text-align: right;\">\n",
       "      <th></th>\n",
       "      <th>Year</th>\n",
       "      <th>Total</th>\n",
       "      <th>Gas</th>\n",
       "      <th>Liquids</th>\n",
       "      <th>Solids</th>\n",
       "      <th>Production</th>\n",
       "      <th>Flaring</th>\n",
       "      <th>Capita</th>\n",
       "    </tr>\n",
       "  </thead>\n",
       "  <tbody>\n",
       "    <tr>\n",
       "      <th>count</th>\n",
       "      <td>263.000000</td>\n",
       "      <td>263.000000</td>\n",
       "      <td>263.000000</td>\n",
       "      <td>263.000000</td>\n",
       "      <td>263.000000</td>\n",
       "      <td>263.000000</td>\n",
       "      <td>263.000000</td>\n",
       "      <td>64.000000</td>\n",
       "    </tr>\n",
       "    <tr>\n",
       "      <th>mean</th>\n",
       "      <td>1882.000000</td>\n",
       "      <td>1491.460076</td>\n",
       "      <td>202.920152</td>\n",
       "      <td>526.604563</td>\n",
       "      <td>708.460076</td>\n",
       "      <td>39.741445</td>\n",
       "      <td>13.752852</td>\n",
       "      <td>1.064375</td>\n",
       "    </tr>\n",
       "    <tr>\n",
       "      <th>std</th>\n",
       "      <td>76.065761</td>\n",
       "      <td>2393.608277</td>\n",
       "      <td>428.249808</td>\n",
       "      <td>972.403481</td>\n",
       "      <td>925.645035</td>\n",
       "      <td>94.172783</td>\n",
       "      <td>26.852078</td>\n",
       "      <td>0.182181</td>\n",
       "    </tr>\n",
       "    <tr>\n",
       "      <th>min</th>\n",
       "      <td>1751.000000</td>\n",
       "      <td>3.000000</td>\n",
       "      <td>0.000000</td>\n",
       "      <td>0.000000</td>\n",
       "      <td>3.000000</td>\n",
       "      <td>0.000000</td>\n",
       "      <td>0.000000</td>\n",
       "      <td>0.650000</td>\n",
       "    </tr>\n",
       "    <tr>\n",
       "      <th>25%</th>\n",
       "      <td>1816.500000</td>\n",
       "      <td>13.500000</td>\n",
       "      <td>0.000000</td>\n",
       "      <td>0.000000</td>\n",
       "      <td>13.500000</td>\n",
       "      <td>0.000000</td>\n",
       "      <td>0.000000</td>\n",
       "      <td>0.962500</td>\n",
       "    </tr>\n",
       "    <tr>\n",
       "      <th>50%</th>\n",
       "      <td>1882.000000</td>\n",
       "      <td>256.000000</td>\n",
       "      <td>0.000000</td>\n",
       "      <td>4.000000</td>\n",
       "      <td>252.000000</td>\n",
       "      <td>0.000000</td>\n",
       "      <td>0.000000</td>\n",
       "      <td>1.110000</td>\n",
       "    </tr>\n",
       "    <tr>\n",
       "      <th>75%</th>\n",
       "      <td>1947.500000</td>\n",
       "      <td>1405.500000</td>\n",
       "      <td>71.500000</td>\n",
       "      <td>342.000000</td>\n",
       "      <td>1055.000000</td>\n",
       "      <td>13.500000</td>\n",
       "      <td>0.000000</td>\n",
       "      <td>1.165000</td>\n",
       "    </tr>\n",
       "    <tr>\n",
       "      <th>max</th>\n",
       "      <td>2013.000000</td>\n",
       "      <td>9776.000000</td>\n",
       "      <td>1806.000000</td>\n",
       "      <td>3216.000000</td>\n",
       "      <td>4131.000000</td>\n",
       "      <td>554.000000</td>\n",
       "      <td>110.000000</td>\n",
       "      <td>1.360000</td>\n",
       "    </tr>\n",
       "  </tbody>\n",
       "</table>\n",
       "</div>"
      ],
      "text/plain": [
       "              Year        Total          Gas      Liquids       Solids  \\\n",
       "count   263.000000   263.000000   263.000000   263.000000   263.000000   \n",
       "mean   1882.000000  1491.460076   202.920152   526.604563   708.460076   \n",
       "std      76.065761  2393.608277   428.249808   972.403481   925.645035   \n",
       "min    1751.000000     3.000000     0.000000     0.000000     3.000000   \n",
       "25%    1816.500000    13.500000     0.000000     0.000000    13.500000   \n",
       "50%    1882.000000   256.000000     0.000000     4.000000   252.000000   \n",
       "75%    1947.500000  1405.500000    71.500000   342.000000  1055.000000   \n",
       "max    2013.000000  9776.000000  1806.000000  3216.000000  4131.000000   \n",
       "\n",
       "       Production     Flaring     Capita  \n",
       "count  263.000000  263.000000  64.000000  \n",
       "mean    39.741445   13.752852   1.064375  \n",
       "std     94.172783   26.852078   0.182181  \n",
       "min      0.000000    0.000000   0.650000  \n",
       "25%      0.000000    0.000000   0.962500  \n",
       "50%      0.000000    0.000000   1.110000  \n",
       "75%     13.500000    0.000000   1.165000  \n",
       "max    554.000000  110.000000   1.360000  "
      ]
     },
     "execution_count": 7,
     "metadata": {},
     "output_type": "execute_result"
    }
   ],
   "source": [
    "df.describe()"
   ]
  },
  {
   "cell_type": "code",
   "execution_count": 8,
   "id": "ebc76698",
   "metadata": {},
   "outputs": [
    {
     "name": "stdout",
     "output_type": "stream",
     "text": [
      "<class 'pandas.core.frame.DataFrame'>\n",
      "RangeIndex: 263 entries, 0 to 262\n",
      "Data columns (total 8 columns):\n",
      " #   Column      Non-Null Count  Dtype  \n",
      "---  ------      --------------  -----  \n",
      " 0   Year        263 non-null    int64  \n",
      " 1   Total       263 non-null    int64  \n",
      " 2   Gas         263 non-null    int64  \n",
      " 3   Liquids     263 non-null    int64  \n",
      " 4   Solids      263 non-null    int64  \n",
      " 5   Production  263 non-null    int64  \n",
      " 6   Flaring     263 non-null    int64  \n",
      " 7   Capita      64 non-null     float64\n",
      "dtypes: float64(1), int64(7)\n",
      "memory usage: 16.6 KB\n"
     ]
    }
   ],
   "source": [
    "df.info()"
   ]
  },
  {
   "cell_type": "code",
   "execution_count": 9,
   "id": "3f9b0cb0",
   "metadata": {},
   "outputs": [
    {
     "data": {
      "text/plain": [
       "Year            0\n",
       "Total           0\n",
       "Gas             0\n",
       "Liquids         0\n",
       "Solids          0\n",
       "Production      0\n",
       "Flaring         0\n",
       "Capita        199\n",
       "dtype: int64"
      ]
     },
     "execution_count": 9,
     "metadata": {},
     "output_type": "execute_result"
    }
   ],
   "source": [
    "df.isna().sum()"
   ]
  },
  {
   "cell_type": "code",
   "execution_count": 12,
   "id": "0cb18649",
   "metadata": {},
   "outputs": [
    {
     "data": {
      "text/html": [
       "<div>\n",
       "<style scoped>\n",
       "    .dataframe tbody tr th:only-of-type {\n",
       "        vertical-align: middle;\n",
       "    }\n",
       "\n",
       "    .dataframe tbody tr th {\n",
       "        vertical-align: top;\n",
       "    }\n",
       "\n",
       "    .dataframe thead th {\n",
       "        text-align: right;\n",
       "    }\n",
       "</style>\n",
       "<table border=\"1\" class=\"dataframe\">\n",
       "  <thead>\n",
       "    <tr style=\"text-align: right;\">\n",
       "      <th></th>\n",
       "      <th>Year</th>\n",
       "      <th>Total</th>\n",
       "      <th>Gas</th>\n",
       "      <th>Liquids</th>\n",
       "      <th>Solids</th>\n",
       "      <th>Production</th>\n",
       "      <th>Flaring</th>\n",
       "      <th>Capita</th>\n",
       "    </tr>\n",
       "  </thead>\n",
       "  <tbody>\n",
       "    <tr>\n",
       "      <th>199</th>\n",
       "      <td>1950</td>\n",
       "      <td>1630</td>\n",
       "      <td>97</td>\n",
       "      <td>423</td>\n",
       "      <td>1070</td>\n",
       "      <td>18</td>\n",
       "      <td>23</td>\n",
       "      <td>0.65</td>\n",
       "    </tr>\n",
       "    <tr>\n",
       "      <th>200</th>\n",
       "      <td>1951</td>\n",
       "      <td>1767</td>\n",
       "      <td>115</td>\n",
       "      <td>479</td>\n",
       "      <td>1129</td>\n",
       "      <td>20</td>\n",
       "      <td>24</td>\n",
       "      <td>0.69</td>\n",
       "    </tr>\n",
       "    <tr>\n",
       "      <th>201</th>\n",
       "      <td>1952</td>\n",
       "      <td>1795</td>\n",
       "      <td>124</td>\n",
       "      <td>504</td>\n",
       "      <td>1119</td>\n",
       "      <td>22</td>\n",
       "      <td>26</td>\n",
       "      <td>0.69</td>\n",
       "    </tr>\n",
       "    <tr>\n",
       "      <th>202</th>\n",
       "      <td>1953</td>\n",
       "      <td>1841</td>\n",
       "      <td>131</td>\n",
       "      <td>533</td>\n",
       "      <td>1125</td>\n",
       "      <td>24</td>\n",
       "      <td>27</td>\n",
       "      <td>0.69</td>\n",
       "    </tr>\n",
       "    <tr>\n",
       "      <th>203</th>\n",
       "      <td>1954</td>\n",
       "      <td>1865</td>\n",
       "      <td>138</td>\n",
       "      <td>557</td>\n",
       "      <td>1116</td>\n",
       "      <td>27</td>\n",
       "      <td>27</td>\n",
       "      <td>0.69</td>\n",
       "    </tr>\n",
       "    <tr>\n",
       "      <th>...</th>\n",
       "      <td>...</td>\n",
       "      <td>...</td>\n",
       "      <td>...</td>\n",
       "      <td>...</td>\n",
       "      <td>...</td>\n",
       "      <td>...</td>\n",
       "      <td>...</td>\n",
       "      <td>...</td>\n",
       "    </tr>\n",
       "    <tr>\n",
       "      <th>258</th>\n",
       "      <td>2009</td>\n",
       "      <td>8641</td>\n",
       "      <td>1580</td>\n",
       "      <td>3065</td>\n",
       "      <td>3517</td>\n",
       "      <td>415</td>\n",
       "      <td>64</td>\n",
       "      <td>1.26</td>\n",
       "    </tr>\n",
       "    <tr>\n",
       "      <th>259</th>\n",
       "      <td>2010</td>\n",
       "      <td>9137</td>\n",
       "      <td>1700</td>\n",
       "      <td>3129</td>\n",
       "      <td>3795</td>\n",
       "      <td>448</td>\n",
       "      <td>66</td>\n",
       "      <td>1.32</td>\n",
       "    </tr>\n",
       "    <tr>\n",
       "      <th>260</th>\n",
       "      <td>2011</td>\n",
       "      <td>9508</td>\n",
       "      <td>1762</td>\n",
       "      <td>3158</td>\n",
       "      <td>4027</td>\n",
       "      <td>496</td>\n",
       "      <td>64</td>\n",
       "      <td>1.36</td>\n",
       "    </tr>\n",
       "    <tr>\n",
       "      <th>261</th>\n",
       "      <td>2012</td>\n",
       "      <td>9671</td>\n",
       "      <td>1787</td>\n",
       "      <td>3214</td>\n",
       "      <td>4086</td>\n",
       "      <td>520</td>\n",
       "      <td>65</td>\n",
       "      <td>1.36</td>\n",
       "    </tr>\n",
       "    <tr>\n",
       "      <th>262</th>\n",
       "      <td>2013</td>\n",
       "      <td>9776</td>\n",
       "      <td>1806</td>\n",
       "      <td>3216</td>\n",
       "      <td>4131</td>\n",
       "      <td>554</td>\n",
       "      <td>68</td>\n",
       "      <td>1.36</td>\n",
       "    </tr>\n",
       "  </tbody>\n",
       "</table>\n",
       "<p>64 rows × 8 columns</p>\n",
       "</div>"
      ],
      "text/plain": [
       "     Year  Total   Gas  Liquids  Solids  Production  Flaring  Capita\n",
       "199  1950   1630    97      423    1070          18       23    0.65\n",
       "200  1951   1767   115      479    1129          20       24    0.69\n",
       "201  1952   1795   124      504    1119          22       26    0.69\n",
       "202  1953   1841   131      533    1125          24       27    0.69\n",
       "203  1954   1865   138      557    1116          27       27    0.69\n",
       "..    ...    ...   ...      ...     ...         ...      ...     ...\n",
       "258  2009   8641  1580     3065    3517         415       64    1.26\n",
       "259  2010   9137  1700     3129    3795         448       66    1.32\n",
       "260  2011   9508  1762     3158    4027         496       64    1.36\n",
       "261  2012   9671  1787     3214    4086         520       65    1.36\n",
       "262  2013   9776  1806     3216    4131         554       68    1.36\n",
       "\n",
       "[64 rows x 8 columns]"
      ]
     },
     "execution_count": 12,
     "metadata": {},
     "output_type": "execute_result"
    }
   ],
   "source": [
    "df=df.dropna()\n",
    "df"
   ]
  },
  {
   "cell_type": "code",
   "execution_count": 13,
   "id": "1a4c4422",
   "metadata": {},
   "outputs": [
    {
     "data": {
      "text/plain": [
       "(64, 8)"
      ]
     },
     "execution_count": 13,
     "metadata": {},
     "output_type": "execute_result"
    }
   ],
   "source": [
    "df.shape"
   ]
  },
  {
   "cell_type": "code",
   "execution_count": 15,
   "id": "a875325e",
   "metadata": {},
   "outputs": [
    {
     "data": {
      "image/png": "[encoded data removed]",
      "text/plain": [
       "<Figure size 1008x504 with 2 Axes>"
      ]
     },
     "metadata": {
      "needs_background": "light"
     },
     "output_type": "display_data"
    }
   ],
   "source": [
    "plt.figure(figsize=(14,7))\n",
    "sns.heatmap(df.corr(), annot=True)\n",
    "plt.show()"
   ]
  },
  {
   "cell_type": "code",
   "execution_count": 18,
   "id": "7d5d1de3",
   "metadata": {},
   "outputs": [
    {
     "data": {
      "text/plain": [
       "array([0.65, 0.69, 0.69, 0.69, 0.69, 0.74, 0.78, 0.79, 0.8 , 0.83, 0.85,\n",
       "       0.84, 0.86, 0.89, 0.92, 0.94, 0.97, 0.98, 1.01, 1.05, 1.1 , 1.12,\n",
       "       1.14, 1.18, 1.16, 1.13, 1.18, 1.19, 1.18, 1.23, 1.19, 1.14, 1.11,\n",
       "       1.08, 1.1 , 1.12, 1.13, 1.14, 1.16, 1.16, 1.15, 1.14, 1.11, 1.1 ,\n",
       "       1.1 , 1.11, 1.12, 1.12, 1.1 , 1.08, 1.1 , 1.11, 1.11, 1.16, 1.2 ,\n",
       "       1.23, 1.26, 1.27, 1.29, 1.26, 1.32, 1.36, 1.36, 1.36])"
      ]
     },
     "execution_count": 18,
     "metadata": {},
     "output_type": "execute_result"
    }
   ],
   "source": [
    "X=df.iloc[:, 1:-1].values\n",
    "Y=df.iloc[:, -1].values\n",
    "Y"
   ]
  },
  {
   "cell_type": "code",
   "execution_count": 19,
   "id": "0f054427",
   "metadata": {},
   "outputs": [],
   "source": [
    "from sklearn.model_selection import train_test_split\n",
    "X_train, X_test, Y_train, Y_test= train_test_split(X, Y, test_size=0.2, random_state=42)\n"
   ]
  },
  {
   "cell_type": "code",
   "execution_count": 20,
   "id": "d9c6d435",
   "metadata": {},
   "outputs": [],
   "source": [
    "from sklearn.tree import DecisionTreeRegressor \n",
    "from sklearn.svm import SVR\n",
    "from sklearn.ensemble import RandomForestRegressor"
   ]
  },
  {
   "cell_type": "code",
   "execution_count": 21,
   "id": "7f78ebc3",
   "metadata": {},
   "outputs": [],
   "source": [
    "dt= DecisionTreeRegressor(random_state=42)\n",
    "sv= SVR(kernel ='rbf')\n",
    "rf= RandomForestRegressor(max_depth=5, random_state=42)"
   ]
  },
  {
   "cell_type": "code",
   "execution_count": 22,
   "id": "d73a8919",
   "metadata": {},
   "outputs": [
    {
     "data": {
      "text/plain": [
       "RandomForestRegressor(max_depth=5, random_state=42)"
      ]
     },
     "execution_count": 22,
     "metadata": {},
     "output_type": "execute_result"
    }
   ],
   "source": [
    "dt.fit(X_train, Y_train)\n",
    "sv.fit(X_train, Y_train)\n",
    "rf.fit(X_train, Y_train)"
   ]
  },
  {
   "cell_type": "code",
   "execution_count": 23,
   "id": "03dcae28",
   "metadata": {},
   "outputs": [],
   "source": [
    "pred_dt=dt.predict(X_test)\n",
    "pred_rf=rf.predict(X_test)\n",
    "pred_sv=sv.predict(X_test)"
   ]
  },
  {
   "cell_type": "code",
   "execution_count": 25,
   "id": "051a27c9",
   "metadata": {},
   "outputs": [
    {
     "name": "stdout",
     "output_type": "stream",
     "text": [
      "0.020380986614602727\n",
      "0.01731360589641672\n",
      "0.061053198476458494\n"
     ]
    }
   ],
   "source": [
    "from sklearn.metrics import mean_squared_error\n",
    "print(np.sqrt(mean_squared_error(Y_test, pred_dt)))\n",
    "print(np.sqrt(mean_squared_error(Y_test, pred_rf)))\n",
    "print(np.sqrt(mean_squared_error(Y_test, pred_sv)))"
   ]
  },
  {
   "cell_type": "code",
   "execution_count": null,
   "id": "fd11e541",
   "metadata": {},
   "outputs": [],
   "source": []
  }
 ],
 "metadata": {
  "kernelspec": {
   "display_name": "Python 3 (ipykernel)",
   "language": "python",
   "name": "python3"
  },
  "language_info": {
   "codemirror_mode": {
    "name": "ipython",
    "version": 3
   },
   "file_extension": ".py",
   "mimetype": "text/x-python",
   "name": "python",
   "nbconvert_exporter": "python",
   "pygments_lexer": "ipython3",
   "version": "3.9.7"
  }
 },
 "nbformat": 4,
 "nbformat_minor": 5
}
